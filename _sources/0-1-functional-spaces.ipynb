{
 "cells": [
  {
   "cell_type": "markdown",
   "id": "71e805bd",
   "metadata": {},
   "source": [
    "# Functional space\n",
    "\n",
    "Usually, we think of fMRI data as voxels in a 3D space of _x_, _y_, and _z_ coordinates.\n",
    "Thinking of our data this way highlights the spatial relationship of each voxel;\n",
    "i.e., how near or far it is from another voxel of interest.\n",
    "\n",
    "There are other, non-spatial ways that we can conceptualize our data, however.\n",
    "At each time point, we can look at the relative activation of each voxel and create multiple, unique representations of our data.\n",
    "For example, three representations of a given voxelwise activation pattern might be:\n",
    "\n",
    "- As a **histogram** showing the distribution of activity profiles\n",
    "- As a **vector** of relative activations for each voxel\n",
    "- As activity points in an **_N_-dimensional activation space**, where _N_ is equal to the number of voxels\n",
    "\n",
    "Each of these methods are illustrated in {numref}`churchland-1998-fig1-png`.\n",
    "\n",
    "```{figure} ../images/churchland-1998-fig1.png\n",
    "---\n",
    "height: 375px\n",
    "name: churchland-1998-fig1-png\n",
    "---\n",
    "Three different ways of conceptualizing a given voxelwise activity pattern:\n",
    "a histogram of activation levels, an activation vector, or a point in activation space.\n",
    "Figure adapted from {cite:t}`Churchland1998-lw`.\n",
    "```\n",
    "\n",
    "Importantly, there is no reason that we need to limit these non-spatial representation to only a single timepoint.\n",
    "That is, we can define a new two-dimensional space,\n",
    "where each dimension corresponds to one voxel's activity.\n",
    "For each time point,\n",
    "we then include a single data point that indexes the relative activity of each voxel at that time point.\n",
    "This basic idea is illustrated in {numref}`voxel-space-gif`.\n",
    "\n",
    "```{figure} ../images/voxel_space.gif\n",
    "---\n",
    "height: 375px\n",
    "name: voxel-space-gif\n",
    "---\n",
    "Moving from anatomical space to a high-dimensional voxel space.\n",
    "Here, we only consider two voxels to aid in visualization.\n",
    "```\n",
    "\n",
    "Although each of these representations equivalently summarize the data,\n",
    "we focus on the _N_-dimensional activity space to highlight a more geometric intuition for these methods.\n",
    "Note that as we increase the number of voxels, we also increase the number of dimensions.\n",
    "\n",
    "## References\n",
    "\n",
    "```{bibliography}\n",
    ":style: unsrt\n",
    ":filter: docname in docnames\n",
    "```\n",
    "\n",
    "## Other useful resources\n",
    "\n",
    "- [3Blue1Brown video on high-dimensional spaces](https://www.youtube.com/watch?v=zwAD6dRSVyI)\n",
    "- [Marc Khoury blog on counterintuitive properties of high-dimensional spaces](https://marckhoury.github.io/blog/counterintuitive-properties-of-high-dimensional-space)"
   ]
  }
 ],
 "metadata": {
  "jupytext": {
   "formats": "md:myst,ipynb",
   "text_representation": {
    "extension": ".md",
    "format_name": "myst",
    "format_version": "0.9",
    "jupytext_version": "1.5.2"
   }
  },
  "kernelspec": {
   "display_name": "Python 3",
   "name": "python3"
  },
  "language_info": {
   "codemirror_mode": {
    "name": "ipython",
    "version": 3
   },
   "file_extension": ".py",
   "mimetype": "text/x-python",
   "name": "python",
   "nbconvert_exporter": "python",
   "pygments_lexer": "ipython3",
   "version": "3.7.12"
  },
  "source_map": [
   12
  ]
 },
 "nbformat": 4,
 "nbformat_minor": 5
}