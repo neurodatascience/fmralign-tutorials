{
 "cells": [
  {
   "cell_type": "markdown",
   "id": "f74c4e9c",
   "metadata": {},
   "source": [
    "# Functional alignment\n",
    "\n",
    "What is \"functional alignment\"?\n",
    "Although a range of terminology is in use across the field,\n",
    "in these tutorials we define functional alignment as transformations which align directly individual functional activity,\n",
    "without relying on anatomical landmarks.\n",
    "\n",
    "## Contrasting anatomically-based alignment\n",
    "\n",
    "With neuroimaging data, we usually make inferences across subjects by creating a mapping between each subject’s neuroanatomy;\n",
    "this is usually done by normalizing their anatomical (T1-weighted) MRI scan to a standard template such as the MNI152.\n",
    "We can then look at similarities across individuals in this standardized space.\n",
    "Although this approach allows us to learnt commonalities across subjects, it can obscure important individual information.\n",
    "\n",
    "A relevant analogy here is to the idea of face morphing.\n",
    "Much like sulci and gyri in MRI data,\n",
    "faces also have relevant landmarks (e.g. eyes) that can be used to generate a mapping between individual's faces.\n",
    "Using these mappings can bring one or more faces into alignment, where they can then be averaged.\n",
    "\n",
    "```{figure} ../images/average-president.jpg\n",
    "---\n",
    "height: 350px\n",
    "name: average-president-jpg\n",
    "---\n",
    "An average face from six US presidents, generaged [using OpenCV](https://learnopencv.com/average-face-opencv-c-python-tutorial/).\n",
    "With [thanks to Jack Gallant](https://smartech.gatech.edu/handle/1853/60990).\n",
    "```\n",
    "\n",
    "An \"average face\" retains important structure that is consistent across individuals,\n",
    "but it does not resemble any of the individuals used to derive the average.\n",
    "\n",
    "## High-dimensional functional spaces\n",
    "\n",
    "Functional alignment doesn't use landmark information to generate its alignments.\n",
    "To understand it, we need to think outside of the box—the box of three dimensions, that is.\n",
    "\n",
    "Usually, we think of fMRI data in a 3D space of _x_, _y_, and _z_ coordinates.\n",
    "This is not the only way to think about our data, however.\n",
    "Instead, we can imagine a new space where our dimensions equal the number of voxels we’re comparing between subjects.\n",
    "To keep things simple, let’s first pretend we are only interested in two voxels.\n",
    "\n",
    "```{figure} ../images/voxel_space.gif\n",
    "---\n",
    "height: 375px\n",
    "name: voxel-space-gif\n",
    "---\n",
    "Moving from anatomical space to a high-dimensional voxel space.\n",
    "Here, we only consider two voxels to aid in visualization.\n",
    "```\n",
    "\n",
    "As we increase the number of voxels, we also increase the number of dimensions.\n",
    "\n",
    "```{sidebar}\n",
    "It quickly becomes unreasonable to visualize these new spaces, despite [what Geoff Hinton says](https://twitter.com/videodrome/status/1005887240407379969):\n",
    "\n",
    "> To deal with hyper-planes in a 14-dimensional space, visualize a 3-D space and say \"fourteen\" to yourself very loudly. Everyone does it.\n",
    "```\n",
    "\n",
    "Instead of visualizing these spaces, then, we will simply have to reason about them.\n",
    "This takes a bit of getting used to,\n",
    "and it's important to note that [our default intution is often wrong](https://marckhoury.github.io/blog/counterintuitive-properties-of-high-dimensional-space)!\n",
    "There are [good resources](https://www.youtube.com/watch?v=zwAD6dRSVyI) for learning to think in higher dimensions,\n",
    "but here we'll focus on how we can learn to work with them.\n",
    "\n",
    "At a high-level, the goal is to make two distributions of participant activity patterns look as similar as possible,\n",
    "given certain constraints on the transformation.\n",
    "The precise constraints differ according to the method; however, we are only interested in methods which generate linear mappings.\n",
    "The resulting transformations, then, should improve functional similarity while retaining as much information as possible about individual participants or conditions.\n",
    "\n",
    "The methods used to create these transformations can be considered as part of a broader class of \"distribution alignment\" methods.\n",
    "Although distribution alignment is used in domain adaptation,\n",
    "functional alignment is unique in that we have access to both the \"source\" and \"target\" distributions and are trying to learn a relationship between them,\n",
    "rather than transferring a learnt relationship from one distribution to another.\n",
    "\n",
    "The next four tutorials detail different methods for functionally aligning two (or more) high-dimensional, voxel spaces."
   ]
  }
 ],
 "metadata": {
  "jupytext": {
   "formats": "md:myst,ipynb",
   "text_representation": {
    "extension": ".md",
    "format_name": "myst",
    "format_version": "0.9",
    "jupytext_version": "1.5.2"
   }
  },
  "kernelspec": {
   "display_name": "Python 3",
   "name": "python3"
  },
  "language_info": {
   "codemirror_mode": {
    "name": "ipython",
    "version": 3
   },
   "file_extension": ".py",
   "mimetype": "text/x-python",
   "name": "python",
   "nbconvert_exporter": "python",
   "pygments_lexer": "ipython3",
   "version": "3.7.10"
  },
  "source_map": [
   12
  ]
 },
 "nbformat": 4,
 "nbformat_minor": 5
}