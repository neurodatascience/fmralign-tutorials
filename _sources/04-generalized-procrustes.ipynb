{
 "cells": [
  {
   "cell_type": "markdown",
   "metadata": {},
   "source": [
    "# Generalized Procrustes analysis\n",
    "\n",
    "Generalized Procrustes analysis differs from Procrustes analysis in two significant ways.\n",
    "First, generalized Procrustes includes both the orthogonal transformations of Procrustes (i.e., rotations and reflections),\n",
    "as well as additional scaling and translation transformations.\n",
    "Second, generalized Procrustes can be applied to more than two shapes through the iterative use of a reference shape.\n",
    "\n",
    "We can formally express the generalized Procrustes problem as:\n",
    "\n",
    "```{math}\n",
    ":label: general_procrustes_eq_1\n",
    "\\min_{\\mathbf{R}= s\\mathbf{M}} ||\\mathbf{R} \\mathbf{X} - \\mathbf{Y}||_F^2 \\\\\n",
    "s\\in\\mathbb{R^+}, \\enspace \\mathbf{M} \\in \\mathbb{R}^{p \\times p} \\text{ s.t. } \\mathbf{M}^\\intercal\\mathbf{M} = \\mathbf{I}_p\n",
    "```"
   ]
  }
 ],
 "metadata": {
  "jupytext": {
   "formats": "md:myst,ipynb",
   "text_representation": {
    "extension": ".md",
    "format_name": "myst",
    "format_version": "0.9",
    "jupytext_version": "1.5.2"
   }
  },
  "kernelspec": {
   "display_name": "Python 3",
   "name": "python3"
  },
  "language_info": {
   "codemirror_mode": {
    "name": "ipython",
    "version": 3
   },
   "file_extension": ".py",
   "mimetype": "text/x-python",
   "name": "python",
   "nbconvert_exporter": "python",
   "pygments_lexer": "ipython3",
   "version": "3.7.8"
  },
  "source_map": [
   12
  ]
 },
 "nbformat": 4,
 "nbformat_minor": 4
}