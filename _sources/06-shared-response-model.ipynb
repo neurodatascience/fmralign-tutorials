{
 "cells": [
  {
   "cell_type": "markdown",
   "id": "70762db3",
   "metadata": {},
   "source": [
    "# Shared Response Modelling (SRM)\n",
    "\n",
    "Shared Response Modelling (SRM) is a _latent factor model_.\n",
    "This means that--rather than searching for direct correspondences across subjects--an initial dimensionality reduction is\n",
    "used to identify latent factors that support the observed measreuments and are shared across subjects.\n",
    "The deterministic SRM model assumes Gaussian noise with the same variance for all subjects and orthonormal spatial components.\n",
    "\n",
    "## Formalism\n",
    "\n",
    "```{math}\n",
    ":label: srm_eq_1\n",
    "\\forall_i \\in {1 ... n}, X_i[τ] ~ N(S[τ]W_i, σ^2 I_v) \\\\\n",
    "\\mathbf{W}_i\\mathbf{W}^\\intercal_i = \\mathbf{I}_k\n",
    "```\n",
    "\n",
    "Maximizing the log-likelihood we obtain the following optimization problem:\n",
    "\n",
    "```{math}\n",
    ":label: srm_eq_2\n",
    "\\min{W_1, ... ,W_n, S} \\Sigma{i=1}^n ||Xi − SW_i||_2 \\\\\n",
    "\\text{such that} \\forall_i \\in {1, ..., n}\n",
    "\\mathbf{W}_i\\mathbf{W}^\\intercal_i = \\mathbf{I}_k\n",
    "```\n",
    "\n",
    "This can be solved efficiently using alternate minimization on $(W1, ..., Wn)$\n",
    "and $S$.\n",
    "At each iteration we have two problems to solve that have a closed form\n",
    "solution:\n",
    "\n",
    "```{math}\n",
    ":label: srm_eq_3\n",
    "\\forall_i \\in {1, ..., n},\n",
    "\\arg\\min_{\\mathbf{W}}\\Sigma_{j=1}^n ||X_j − SW_j||^2 = U_iV_i \\\\\n",
    "\\text{where} Ui, Di, Vi = SVD(S^\\intercal X_i) \\\\\n",
    "\\text{such that} \\mathbf{W}_i\\mathbf{W}^\\intercal_i = \\mathbf{I}_k\n",
    "```\n",
    "\n",
    "```{math}\n",
    ":label: srm_eq_4\n",
    "\\arg\\min_{\\mathbf{S}}\\Sigma_{i=1}^n ||X_i − SW_i||^2 = 1 / n \\Sigma_{i=1}^n X_i W_i^\\intercal\n",
    "```\n",
    "\n",
    "## Implementation\n",
    "\n",
    "Accessible implementations are available in `brainiak.funcalign.srm.DetSRM`,\n",
    "with an optimized implementation in `brainiak.funcalign.fastsrm.FastSRM`."
   ]
  }
 ],
 "metadata": {
  "jupytext": {
   "formats": "md:myst,ipynb",
   "text_representation": {
    "extension": ".md",
    "format_name": "myst",
    "format_version": "0.9",
    "jupytext_version": "1.5.2"
   }
  },
  "kernelspec": {
   "display_name": "Python 3",
   "name": "python3"
  },
  "language_info": {
   "codemirror_mode": {
    "name": "ipython",
    "version": 3
   },
   "file_extension": ".py",
   "mimetype": "text/x-python",
   "name": "python",
   "nbconvert_exporter": "python",
   "pygments_lexer": "ipython3",
   "version": "3.7.12"
  },
  "source_map": [
   12
  ]
 },
 "nbformat": 4,
 "nbformat_minor": 5
}