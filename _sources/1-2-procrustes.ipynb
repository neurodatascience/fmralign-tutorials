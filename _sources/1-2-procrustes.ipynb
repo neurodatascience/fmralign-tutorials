{
 "cells": [
  {
   "cell_type": "markdown",
   "id": "1c184788",
   "metadata": {},
   "source": [
    "# Procrustes alignment\n",
    "\n",
    "Originally introduced in {cite}`Schonemann1966-qq`,\n",
    "Procrustes analysis is a form of statistical shape analysis which focusses on comparing the geometry of two objects or data sets.\n",
    "Although it may seem unusual to think of distributions in terms of geometry,\n",
    "this makes more sense when we consider the distributions as point sets in some activation space.\n",
    "\n",
    "Because we assume a known correspondence between these two distributions,\n",
    "we can directly compare the $i$-th sample across $X$ and $Y$.\n",
    "The goal in Procrustes is to find a single orthogonal transformation that minimizes the sum-of-squares distances between all $n$ $X$, $Y$ pairs,\n",
    "thereby minimizing the total distance between the distributions.\n",
    "\n",
    "````{margin}\n",
    "```{note}\n",
    "Procrustes analysis is named for the legend of Procrustes,\n",
    "the ancient innkeeper from Greek mythology who stretched or cut off traveller's limbs so they would fit his bed.\n",
    "```\n",
    "````\n",
    "\n",
    "## Orthogonal Procrustes\n",
    "\n",
    "Our goal, then, is to find linear transformations that minimize the total distance between the two distributions.\n",
    "By further assuming that each distribution has exactly the same number of voxels $p$ measured over the same $n$ observations,\n",
    "we can consider that we are comparing two shapes with a known one-to-one mapping;\n",
    "i.e. the $i$-th voxel in the $X$ distribution corresponds to the same voxel index in the $Y$ distribution.\n",
    "Procrustes analysis allows us to align the shapes as closely as possible through linear mapping\n",
    "and to quantify how much they differ after this alignment.\n",
    "\n",
    "### Formalism"
   ]
  },
  {
   "cell_type": "code",
   "execution_count": 1,
   "id": "5a21efa5",
   "metadata": {
    "tags": [
     "hide-input"
    ]
   },
   "outputs": [],
   "source": [
    "import numpy as np\n",
    "\n",
    "X = np.random.rand(20, 100)\n",
    "Y = np.random.rand(20, 100)"
   ]
  },
  {
   "cell_type": "markdown",
   "id": "65b28e3b",
   "metadata": {},
   "source": [
    "For our two distributions $\\mathbf{X} \\in \\mathbb{R}^{n \\times p}$ and\n",
    "$\\mathbf{Y} \\in \\mathbb{R}^{n \\times p}$, Procrustes solves the following minimization:\n",
    "\n",
    "```{math}\n",
    ":label: procrustes_eq_1\n",
    "\\arg\\min_{\\mathbf{R}} ||\\mathbf{R} \\mathbf{X} - \\mathbf{Y}||_F^2 \\\\\n",
    "\\mathbf{R}^\\intercal\\mathbf{R} = \\mathbf{I}\n",
    "```\n",
    "\n",
    "Where $|| \\cdot ||_F$ indicates the Frobenius norm,\n",
    "which corresponds to the elementwise Euclidean distance.\n",
    "\n",
    "```{math}\n",
    ":label: procrustes_eq_2\n",
    "\\arg\\max_{\\mathbf{R}} \\mathrm{Tr}\\hspace{1pt}(\\mathbf{R} \\mathbf{X} \\mathbf{Y}^T) \\\\\n",
    "\\mathbf{R}^\\intercal\\mathbf{R} = \\mathbf{I}\n",
    "```\n",
    "\n",
    "```{math}\n",
    ":label: procrustes_eq_3\n",
    "\\arg\\max_{\\mathbf{R}} \\mathrm{Tr}\\hspace{1pt}(\\mathbf{R} \\mathbf{U} \\Sigma \\mathbf{V}^\\intercal) \\\\\n",
    "\\mathbf{R}^\\intercal\\mathbf{R} = \\mathbf{I}\n",
    "```"
   ]
  },
  {
   "cell_type": "code",
   "execution_count": 2,
   "id": "1c140874",
   "metadata": {},
   "outputs": [],
   "source": [
    "from scipy.linalg import svd\n",
    "\n",
    "A = Y.T.dot(X)\n",
    "U, s, V = svd(A, full_matrices=0)"
   ]
  },
  {
   "cell_type": "code",
   "execution_count": 3,
   "id": "7e86f27b",
   "metadata": {},
   "outputs": [],
   "source": [
    "R = U.dot(V)\n",
    "sc = s.sum() / (np.linalg.norm(X) ** 2)"
   ]
  },
  {
   "cell_type": "markdown",
   "id": "116912ad",
   "metadata": {},
   "source": [
    "### Implementation\n",
    "\n",
    "Optimized implementations are available in `scipy.linalg.orthogonal_procrustes`."
   ]
  },
  {
   "cell_type": "code",
   "execution_count": 4,
   "id": "028e5761",
   "metadata": {},
   "outputs": [],
   "source": [
    "from scipy.linalg import orthogonal_procrustes\n",
    "\n",
    "R, sc = orthogonal_procrustes(X, Y)"
   ]
  },
  {
   "cell_type": "markdown",
   "id": "4b210c7b",
   "metadata": {},
   "source": [
    "## Generalized Procrustes\n",
    "\n",
    "Generalized Procrustes analysis differs from Procrustes analysis in two ways.\n",
    "First, generalized Procrustes includes both the orthogonal transformations of Procrustes (i.e., rotations and reflections),\n",
    "as well as additional scaling and translation transformations.\n",
    "Second, generalized Procrustes can be applied to more than two shapes through the iterative use of a reference shape.\n",
    "\n",
    "We can formally express the generalized Procrustes problem as:\n",
    "\n",
    "```{math}\n",
    ":label: general_procrustes_eq_1\n",
    "\\min_{\\mathbf{R}= s\\mathbf{M}} ||\\mathbf{R} \\mathbf{X} - \\mathbf{Y}||_F^2 \\\\\n",
    "s\\in\\mathbb{R^+}, \\enspace \\mathbf{M} \\in \\mathbb{R}^{p \\times p} \\text{ s.t. } \\mathbf{M}^\\intercal\\mathbf{M} = \\mathbf{I}_p\n",
    "```\n",
    "\n",
    "### Formalism\n",
    "\n",
    "```{math}\n",
    ":label: general_procrustes_eq_2\n",
    "A = B + C\n",
    "```\n",
    "\n",
    "### Implementation\n",
    "\n",
    "Optimized implementations are available in `scipy.spatial.procrustes`."
   ]
  },
  {
   "cell_type": "code",
   "execution_count": 5,
   "id": "d5b1d290",
   "metadata": {},
   "outputs": [],
   "source": [
    "from scipy.spatial import procrustes\n",
    "\n",
    "mtx1, mtx2, disp = procrustes(X, Y)"
   ]
  },
  {
   "cell_type": "markdown",
   "id": "7c329540",
   "metadata": {},
   "source": [
    "## References\n",
    "\n",
    "```{bibliography}\n",
    ":style: unsrt\n",
    ":filter: docname in docnames\n",
    "```\n",
    "\n",
    "## Other useful resources\n",
    "\n",
    "* [Cory Simon blog on orthogonal Procrustes](https://simonensemble.github.io/2018-10/orthogonal-procrustes.html)"
   ]
  }
 ],
 "metadata": {
  "jupytext": {
   "formats": "md:myst,ipynb",
   "text_representation": {
    "extension": ".md",
    "format_name": "myst",
    "format_version": "0.9",
    "jupytext_version": "1.5.2"
   }
  },
  "kernelspec": {
   "display_name": "Python 3",
   "name": "python3"
  },
  "language_info": {
   "codemirror_mode": {
    "name": "ipython",
    "version": 3
   },
   "file_extension": ".py",
   "mimetype": "text/x-python",
   "name": "python",
   "nbconvert_exporter": "python",
   "pygments_lexer": "ipython3",
   "version": "3.7.12"
  },
  "source_map": [
   12,
   44,
   50,
   76,
   83,
   86,
   92,
   96,
   124,
   128
  ]
 },
 "nbformat": 4,
 "nbformat_minor": 5
}