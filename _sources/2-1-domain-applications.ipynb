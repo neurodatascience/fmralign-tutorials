{
 "cells": [
  {
   "cell_type": "markdown",
   "id": "4fdc7102",
   "metadata": {},
   "source": [
    "# Domain applications\n",
    "\n",
    "Haxby, Hasson, etc.\n",
    "Systems neuroscience (e.g. Eva Dyer), AI (e.g. Kornblith), Neuro-AI (e.g. Williams, Linderman).\n",
    "\n",
    "## Annotated bibliography\n",
    "\n",
    "* {cite:ts}`Churchland1998-lw`\n",
    "\n",
    "* {cite:ts}`Dabagia_undated-wa`\n",
    "  An overview of functional alignment in systems neuroscience applications, particularly through combining dimensionality reduction and distribution alignment techniques.\n",
    "\n",
    "* {cite:ts}`Haxby2020-px`\n",
    "  A review of functional alignment in the cognitive neuroscience literature, with an emphasis on Procrustes-based methods applied to fMRI\n",
    "\n",
    "* {cite:ts}`Williams2021-ur`\n",
    "\n",
    "```{bibliography}\n",
    ":style: unsrt\n",
    ":filter: docname in docnames\n",
    "```"
   ]
  }
 ],
 "metadata": {
  "jupytext": {
   "text_representation": {
    "format_name": "myst"
   }
  },
  "kernelspec": {
   "display_name": "Python 3",
   "name": "python3"
  },
  "language_info": {
   "codemirror_mode": {
    "name": "ipython",
    "version": 3
   },
   "file_extension": ".py",
   "mimetype": "text/x-python",
   "name": "python",
   "nbconvert_exporter": "python",
   "pygments_lexer": "ipython3",
   "version": "3.7.12"
  },
  "source_map": [
   8
  ]
 },
 "nbformat": 4,
 "nbformat_minor": 5
}