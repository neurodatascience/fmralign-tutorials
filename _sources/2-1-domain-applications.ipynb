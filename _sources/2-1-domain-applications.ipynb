{
 "cells": [
  {
   "cell_type": "markdown",
   "id": "0509ee38",
   "metadata": {},
   "source": [
    "# Domain applications\n",
    "\n",
    "Functional alignment methods have applications across a broad variety of domains.\n",
    "Three of particular relevance here are cognitive neuroscience, systems neuroscience and artificial intelligence.\n",
    "We briefly overview each in turn to highlight unique considerations relevant to each field.\n",
    "\n",
    "## Cognitive neuroscience\n",
    "\n",
    "In cognitive neuroscience, functional alignment methods have been developed and applied for both fMRI as well as M/EEG data.\n",
    "\n",
    "### Key references\n",
    "\n",
    "* {cite:ts}`Bazeille2021-xp`  \n",
    "  *Benchmarking performance of a range of functional alignment algorithims when applied to fMRI data*  \n",
    "  <br>\n",
    "* {cite:ts}`Haxby2020-px`  \n",
    "  *A review of functional alignment in the cognitive neuroscience literature, with an emphasis on Procrustes-based methods applied to fMRI*  \n",
    "  <br>\n",
    "* {cite:ts}`Janati2020-iu`  \n",
    "  *Applications of functional alignment to M/EEG data showing an improved ability to compare across both subjects and modalities folowing functoinal alignment*  \n",
    "\n",
    "---\n",
    "\n",
    "## Systems neuroscience\n",
    "\n",
    "In systems neuroscience, latent variable functional alignment methods are widely used to make comparisons across animals or experimental conditions with electrophysiological data.\n",
    "\n",
    "### Key references\n",
    "\n",
    "* {cite:ts}`Dabagia_undated-wa`  \n",
    "  *An overview of functional alignment in systems neuroscience applications, particularly through combining dimensionality reduction and distribution alignment techniques.*  \n",
    "  <br>\n",
    "* {cite:ts}`Williams2021-ur`  \n",
    "  *A recent empirical paper advancing new, generalized shape metrics for aligning both biological and artificial neural network data.*  \n",
    "\n",
    "---\n",
    "\n",
    "## Artificial intelligence\n",
    "\n",
    "In artificial intelligence, functional alignment methods can be used to compare networks with different initializations or at different stages in training.\n",
    "\n",
    "### Key references\n",
    "\n",
    "* {cite:ts}`Churchland1998-lw`  \n",
    "  *An introduction to the problem of mis-aligned representations in connectivist systems broadly, including both biological and artificial networks. This early reference focuses on the logical arguments supporting functional alignment and does not directly contain any real or simulated data.*  \n",
    "  <br>\n",
    "* {cite:ts}`Kornblith2019-bk`  \n",
    "\n",
    "---\n",
    "\n",
    "```{bibliography}\n",
    ":style: unsrt\n",
    ":filter: docname in docnames\n",
    "```"
   ]
  }
 ],
 "metadata": {
  "jupytext": {
   "text_representation": {
    "format_name": "myst"
   }
  },
  "kernelspec": {
   "display_name": "Python 3",
   "name": "python3"
  },
  "language_info": {
   "codemirror_mode": {
    "name": "ipython",
    "version": 3
   },
   "file_extension": ".py",
   "mimetype": "text/x-python",
   "name": "python",
   "nbconvert_exporter": "python",
   "pygments_lexer": "ipython3",
   "version": "3.7.12"
  },
  "source_map": [
   8
  ]
 },
 "nbformat": 4,
 "nbformat_minor": 5
}