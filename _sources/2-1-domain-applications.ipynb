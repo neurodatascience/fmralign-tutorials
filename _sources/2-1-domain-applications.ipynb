{
 "cells": [
  {
   "cell_type": "markdown",
   "id": "84159efc",
   "metadata": {},
   "source": [
    "# Domain applications\n",
    "\n",
    "Haxby, Hasson, etc.\n",
    "Systems neuroscience (e.g. Eva Dyer), AI (e.g. Kornblith), Neuro-AI (e.g. Williams, Linderman)."
   ]
  }
 ],
 "metadata": {
  "jupytext": {
   "text_representation": {
    "format_name": "myst"
   }
  },
  "kernelspec": {
   "display_name": "Python 3",
   "name": "python3"
  },
  "language_info": {
   "codemirror_mode": {
    "name": "ipython",
    "version": 3
   },
   "file_extension": ".py",
   "mimetype": "text/x-python",
   "name": "python",
   "nbconvert_exporter": "python",
   "pygments_lexer": "ipython3",
   "version": "3.7.12"
  },
  "source_map": [
   8
  ]
 },
 "nbformat": 4,
 "nbformat_minor": 5
}