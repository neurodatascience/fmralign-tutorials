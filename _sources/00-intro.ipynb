{
 "cells": [
  {
   "cell_type": "markdown",
   "id": "53e91056",
   "metadata": {},
   "source": [
    "# fmralign tutorials\n",
    "\n",
    "This is a series of tutorials to introduce the idea of \"functional alignment\" and its associated statistical methods.\n",
    "We aim to provide the intuitions behind each method alongside their mathematical definitions.\n",
    "We also illustrate their use on real functional magnetic resonance imaging (fMRI) data.\n",
    "\n",
    "Although this class of methods is broadly referred to as both _functional alignment methods_ and _hyperalignment methods_,\n",
    "we adopt the term _functional alignment methods_ to better distinguish from the specific Procrustes-based hyperalignment method in use in the literature.\n",
    "\n",
    "For these tutorials, we further constrain our definition of functional alignment to only include those methods which learn linear transformations.\n",
    "Other, non-linear methods are in active development, but we focus on linear methods as these broadly retain individual-specific information.\n",
    "\n",
    "Please note that these tutorials do not provide new implementations for functional alignment.\n",
    "There are already many of these available in existing software toolboxes,\n",
    "including [fmralign](https://parietal-inria.github.io/fmralign-docs),\n",
    "[PyMVPA](http://www.pymvpa.org/), or [BrainIAK](https://brainiak.org/).\n",
    "\n",
    "## What we'll cover\n",
    "\n",
    "First, we provide a brief summary of the intutions behind functional alignment.\n",
    "We then review five of the most popular methods for functional alignment:\n",
    "\n",
    "- Ridge regression\n",
    "- Procrustes analysis\n",
    "- Optimal transport\n",
    "- Canonical Correlation Analysis (CCA)\n",
    "- Shared Response Modelling (SRM)\n",
    "\n",
    "Throughout, we focus on concrete applications to real-world data.\n",
    "\n",
    "## Running the tutorials\n",
    "\n",
    "These tutorials are developed as a [Jupyter Book](https://jupyter-book.org),\n",
    "which means that you can view the text, code, and outputs directly in your web browser.\n",
    "If you would like to run or modify the code yourself,\n",
    "you can do so using the [Binder](https://mybinder.org) links available on each page.\n",
    "You can also download and run these files locally.\n",
    "\n",
    "## Related work\n",
    "\n",
    "Although functional alignment is used across several fields and research contexts,\n",
    "in these tutorials we draw on examples from our own field of cognitive neuroscience.\n",
    "The associated code and methods, however, can easily be adapted for other domains.\n",
    "For interested readers, we include a brief annotated bibliography in the final section."
   ]
  }
 ],
 "metadata": {
  "jupytext": {
   "formats": "md:myst,ipynb",
   "text_representation": {
    "extension": ".md",
    "format_name": "myst",
    "format_version": "0.9",
    "jupytext_version": "1.5.2"
   }
  },
  "kernelspec": {
   "display_name": "Python 3",
   "name": "python3"
  },
  "language_info": {
   "codemirror_mode": {
    "name": "ipython",
    "version": 3
   },
   "file_extension": ".py",
   "mimetype": "text/x-python",
   "name": "python",
   "nbconvert_exporter": "python",
   "pygments_lexer": "ipython3",
   "version": "3.7.12"
  },
  "source_map": [
   12
  ]
 },
 "nbformat": 4,
 "nbformat_minor": 5
}