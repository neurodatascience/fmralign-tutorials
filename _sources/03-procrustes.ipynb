{
 "cells": [
  {
   "cell_type": "markdown",
   "metadata": {},
   "source": [
    "# Generalized Procrustes Analysis\n",
    "\n",
    "Procrustes analysis allows us to compares the geometry of two objects or data sets.\n",
    "Specifically, for two geometries with a known one-to-one mapping,\n",
    "we can consider the distance between each pair of corresponding points.\n",
    "Our goal is to derive an orthogonal transformation that minimizes the distance between each pair of points, thus minimizing the total distance between the two geometries.\n",
    "Named for the legend of Procrustes,\n",
    "the ancient Greek innkeeper who stretched or cut off traveller's limbs so they would fit his bed,\n",
    "Procrustes analysis can be seen as conforming datasets through a series of rigid-body transformations {cite}`Schonemann1966-qq`.\n",
    "\n",
    "Generalized Procrustes analysis differs from Procrustes analysis in two significant ways.\n",
    "First, generalized Procrustes includes both the orthogonal transformations of Procrustes (i.e., rotations and reflections),\n",
    "as well as additional scaling and translation transformations.\n",
    "Second, generalized Procrustes can be applied to more than two shapes through the iterative use of a reference shape.\n",
    "\n",
    "## Formalizing the problem\n",
    "\n",
    "Suppose we have two data matrices\n",
    "$X \\in \\mathbb{R}^{n \\times p}$ and\n",
    "$Y \\in \\mathbb{R}^{n \\times p}$,\n",
    "where $n$ is the number of samples,\n",
    "and $p$ are the number of units for each network.\n",
    "\n",
    "For this example, we'll set $p=2$ to ease visualization.\n",
    "In a real data set, we may be working with many more dimensions and samples!\n",
    "\n",
    "```{code} python3\n",
    "import numpy as np\n",
    "\n",
    "x = np.random.rand(1, 2)\n",
    "y = np.random.rand(1, 3)\n",
    "```\n",
    "\n",
    "Remember that we consider these two sets of activation patterns to be paired,\n",
    "we can note the $i$-th sample as two row vectors,\n",
    "$(\\mathbf{x}_i, \\mathbf{y}_i)$ with dimensionality $p$.\n",
    "\n",
    "We can formally express the Procrustes problem as:\n",
    "\n",
    "```{math}\n",
    ":label: procrustes_eq_1\n",
    "\\min_{\\mathbf{R}= s\\mathbf{M}} ||\\mathbf{R} \\mathbf{X} - \\mathbf{Y}||_F^2 \\\\\n",
    "s\\in\\mathbb{R^+}, \\enspace \\mathbf{M} \\in \\mathbb{R}^{p \\times p} \\text{ s.t. } \\mathbf{M}^\\intercal\\mathbf{M} = \\mathbf{I}_p\n",
    "```\n",
    "\n",
    "```{bibliography} references.bib\n",
    ":style: unsrt\n",
    ":filter: docname in docnames\n",
    "```"
   ]
  }
 ],
 "metadata": {
  "jupytext": {
   "formats": "md:myst,ipynb",
   "text_representation": {
    "extension": ".md",
    "format_name": "myst",
    "format_version": "0.9",
    "jupytext_version": "1.5.2"
   }
  },
  "kernelspec": {
   "display_name": "Python 3",
   "name": "python3"
  },
  "language_info": {
   "codemirror_mode": {
    "name": "ipython",
    "version": 3
   },
   "file_extension": ".py",
   "mimetype": "text/x-python",
   "name": "python",
   "nbconvert_exporter": "python",
   "pygments_lexer": "ipython3",
   "version": "3.7.8"
  },
  "source_map": [
   12
  ]
 },
 "nbformat": 4,
 "nbformat_minor": 4
}