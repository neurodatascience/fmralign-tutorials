{
 "cells": [
  {
   "cell_type": "markdown",
   "metadata": {},
   "source": [
    "# Comparing representational geometries with functional alignment\n",
    "\n",
    "Cognitive neuroscience is broadly interested in how cognition is represented in the brain;\n",
    "that is, how psychological constructs like memory, emotion, or decision-making are implemented in brain regions or networks of regions.\n",
    "There are many challenges to achieving this understanding,\n",
    "from providing precise, testable definitions for our psychological constructs\n",
    "to accounting for noise in our measurements.\n",
    "\n",
    "Perhaps the broadest challenge, however, is the sheer diversity of realizations that we see for a given psychological process or neural circuit.\n",
    "That is, individual participants (human or animal) may show very different neural and behavioral patterns to achieve the same goal.\n",
    "These individual differences are an important area of study;\n",
    "however, traditional analyses are designed to compare those patterns which hold across individuals and discard individual variability as noise.\n",
    "\n",
    "Recently, new analysis methods have emerged which account for this variability.\n",
    "One example is _functional alignment_ methods,\n",
    "also known as _hyperalignment_ methods.\n",
    "In traditional analyses, we ensure that the anatomy of our participants is aligned by registering their scans to a standardized template (such as the MNI152).\n",
    "Functional alignment extends this intuition to the collected functional scans;\n",
    "for example, fMRI time series.\n",
    "Our goal, then, is to align the representational geometry of each subject,\n",
    "much as we align their structural geometry.\n",
    "\n",
    "## What's all this about then?\n",
    "\n",
    "This site is intended as a collection of tutorials for several popular functional alignment methods.\n",
    "We aim to provide the intuitions behind each method,\n",
    "some mathematical derivations,\n",
    "and an example implementation on toy data.\n",
    "\n",
    "There are many resources for applying functional alignment methods to domain-specific data.\n",
    "For fMRI data, we recommend [fmralign](https://parietal-inria.github.io/fmralign-docs),\n",
    "[PyMVPA](http://www.pymvpa.org/),\n",
    "or [BrainIAK](https://brainiak.org/).\n",
    "\n",
    "\n",
    "\n",
    "```{toctree}\n",
    ":hidden:\n",
    ":titlesonly:\n",
    "\n",
    "\n",
    "02-related-methods\n",
    "03-procrustes\n",
    "04-cca\n",
    "```"
   ]
  }
 ],
 "metadata": {
  "jupytext": {
   "text_representation": {
    "format_name": "myst"
   }
  },
  "kernelspec": {
   "display_name": "Python 3",
   "name": "python3"
  },
  "language_info": {
   "codemirror_mode": {
    "name": "ipython",
    "version": 3
   },
   "file_extension": ".py",
   "mimetype": "text/x-python",
   "name": "python",
   "nbconvert_exporter": "python",
   "pygments_lexer": "ipython3",
   "version": "3.7.8"
  },
  "source_map": [
   8
  ]
 },
 "nbformat": 4,
 "nbformat_minor": 4
}