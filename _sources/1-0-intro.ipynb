{
 "cells": [
  {
   "cell_type": "markdown",
   "id": "8f8f27dc",
   "metadata": {},
   "source": [
    "# Inclusion criteria\n",
    "\n",
    "At a high-level, the goal of functional alignment is to make two distributions of participant activity patterns look as similar as possible,\n",
    "given certain constraints on the transformation.\n",
    "The precise constraints differ according to the method; however, we are only interested in methods which generate linear mappings.\n",
    "The resulting transformations, then, should improve functional similarity while retaining as much information as possible about individual participants or conditions.\n",
    "\n",
    "The methods used to create these transformations can be considered as part of a broader class of \"distribution alignment\" methods.\n",
    "Although distribution alignment is used in domain adaptation,\n",
    "functional alignment is unique in that we generally have access to both the \"source\" and \"target\" distributions and are trying to learn a relationship between them,\n",
    "rather than transferring a learnt relationship from one distribution to another.\n",
    "\n",
    "The next five tutorials detail different methods for functionally aligning two (or more) high-dimensional, voxel spaces."
   ]
  }
 ],
 "metadata": {
  "jupytext": {
   "formats": "md:myst,ipynb",
   "text_representation": {
    "extension": ".md",
    "format_name": "myst",
    "format_version": "0.9",
    "jupytext_version": "1.5.2"
   }
  },
  "kernelspec": {
   "display_name": "Python 3",
   "name": "python3"
  },
  "language_info": {
   "codemirror_mode": {
    "name": "ipython",
    "version": 3
   },
   "file_extension": ".py",
   "mimetype": "text/x-python",
   "name": "python",
   "nbconvert_exporter": "python",
   "pygments_lexer": "ipython3",
   "version": "3.7.12"
  },
  "source_map": [
   12
  ]
 },
 "nbformat": 4,
 "nbformat_minor": 5
}