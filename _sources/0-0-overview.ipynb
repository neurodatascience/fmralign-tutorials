{
 "cells": [
  {
   "cell_type": "markdown",
   "id": "f64501c2",
   "metadata": {},
   "source": [
    "# fmralign tutorials\n",
    "\n",
    "This is a series of tutorials to introduce the idea of \"functional alignment\" and associated statistical methods.\n",
    "We aim to provide the intuitions behind each method as well as runnable code to implement them on fMRI data.\n",
    "\n",
    "Although this class of methods is broadly referred to as both _functional alignment methods_ and _hyperalignment methods_,\n",
    "we use the term _functional alignment methods_ to better distinguish from the specific Procrustes-based hyperalignment method in use in the literature.\n",
    "\n",
    "Please note that these tutorials *do not provide new implementations* for functional alignment.\n",
    "Instead, we make use of the many available in existing software toolboxes,\n",
    "including [fmralign](https://parietal-inria.github.io/fmralign-docs),\n",
    "[PyMVPA](http://www.pymvpa.org/), and [BrainIAK](https://brainiak.org/).\n",
    "\n",
    "## Prerequisites¶\n",
    "\n",
    "We created these tutorials for researchers who may have heard of functional alignment but would like a better understanding of what these methods entail and how to apply them to their own data.\n",
    "If you:\n",
    "\n",
    "* Currently work with functional MRI (fMRI) data\n",
    "* Would like to align individual participants into a common functional space\n",
    "* Would like to overview the available methods and how they compare to one another\n",
    "\n",
    "then this series of tutorials may be useful for you!\n",
    "\n",
    "## What we'll cover\n",
    "\n",
    "First, we provide a brief summary of the intutions motivating functional alignment.\n",
    "We then review five of the most popular methods:\n",
    "\n",
    "1. Ridge regression\n",
    "2. Procrustes analysis\n",
    "3. Optimal transport\n",
    "4. Canonical Correlation Analysis (CCA)\n",
    "5. Shared Response Modelling (SRM)\n",
    "\n",
    "For each method, we provide mathematical formalisms and corresponding Python code to run this method directly on fMRI data.\n",
    "We then point to extensions of these methods as well as their applications on other kinds of data\n",
    "including M/EEG and cross-domain applications to artifical neural network (ANN) activations and systems neuroscience datasets.\n",
    "\n",
    "## Running the tutorials\n",
    "\n",
    "These tutorials are developed as a [Jupyter Book](https://jupyter-book.org),\n",
    "which means that you can view the text, code, and outputs directly in your web browser.\n",
    "\n",
    "If you would like to run or modify the code yourself,\n",
    "you can do so using the [Binder](https://mybinder.org) links available on each page.\n",
    "You can also download and run these files locally from https://github.com/neurodatascience/fmralign-tutorials\n",
    "\n",
    "## Related work\n",
    "\n",
    "Although functional alignment is used across several fields and research contexts,\n",
    "in these tutorials we draw on examples from our own field of cognitive neuroscience.\n",
    "The associated code and methods, however, can easily be adapted for other domains.\n",
    "For interested readers, we include a brief overview of applications in other fields in the final section."
   ]
  }
 ],
 "metadata": {
  "jupytext": {
   "formats": "md:myst,ipynb",
   "text_representation": {
    "extension": ".md",
    "format_name": "myst",
    "format_version": "0.9",
    "jupytext_version": "1.5.2"
   }
  },
  "kernelspec": {
   "display_name": "Python 3",
   "name": "python3"
  },
  "language_info": {
   "codemirror_mode": {
    "name": "ipython",
    "version": 3
   },
   "file_extension": ".py",
   "mimetype": "text/x-python",
   "name": "python",
   "nbconvert_exporter": "python",
   "pygments_lexer": "ipython3",
   "version": "3.7.12"
  },
  "source_map": [
   12
  ]
 },
 "nbformat": 4,
 "nbformat_minor": 5
}