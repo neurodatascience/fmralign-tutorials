{
 "cells": [
  {
   "cell_type": "markdown",
   "id": "7e09c201",
   "metadata": {},
   "source": [
    "# What functional alignment alignment is not\n",
    "\n",
    "There are two other popular methods in the cognitive neuroscience literature which provide alternative solutions to the problem of individual variability: individualized parcellations and Representational Similarity Analysis (RSA).\n",
    "Although not the focus of this site,\n",
    "we briefly contrast these methods with functional alignment to provide a clearer understanding of what functional alignment entails.\n",
    "\n",
    "## Individualized parcellations\n",
    "\n",
    "High-dimensional neural recordings, such as those achieved through fMRI,\n",
    "measure hundreds of thousands of voxels over hundreds of time points.\n",
    "Computationally, working with this data thus demands some kind of dimensionality reduction.\n",
    "Although many forms of dimensionality reduction have been explored,\n",
    "perhaps the most popular method involves parcellating the brain into a set of functional regions.\n",
    "\n",
    "This method has a strong sense of biological validity,\n",
    "as we know that the brain shows cytoarchitectonic and functional differences across both cortex and sub-cortex.\n",
    "Although functional parcellations can be directly estimated from an individual's fMRI scans,\n",
    "variability in their localization makes inter-subject comparison difficult.\n",
    "Many investigators, therefore, choose to rely on canonical parcellations derived from a different group of participants, such as the Schaefer or BASC parcellations.\n",
    "\n",
    "Because these are group-averaged parcellations, however,\n",
    "we now have the opposite problem--that these parcellations do not appropriately reflect individual-level functional structure!\n",
    "As a result, new methods are being actively developed to \"individualize parcellations.\"\n",
    "That is, to take a canonical parcellation and alter the spatial extent or localization of its parcels such that it better reflects individual-level organization while still being comparable across the group.\n",
    "\n",
    "Although the intuition behind individualizing parcellations can be viewed as a form of functional alignment,\n",
    "there is one large conceptual difference.\n",
    "When we parcellate fMRI data,\n",
    "we know that this is a useful form of dimensionality reduction.\n",
    "It is unlikely, however, that the identified areas reflect \"true\" functional modules in the brain.\n",
    "This requires a much higher evidence-threshold,\n",
    "such as converging cytoarchitectonic boundaries.\n",
    "By individualizing functional parcels,\n",
    "we implicitly agree that we expect this set of parcels to exist across all individuals.\n",
    "It may be possible to describe the data using the set of parcels,\n",
    "but this does not guarantee that these parcels in fact exist across individuals\n",
    "or that they reflect the true data-generating process.\n",
    "\n",
    "Rather than using pre-established parcels as their starting point,\n",
    "functional alignment methods use the individual functional units.\n",
    "In the case of fMRI data, therefore,\n",
    "alignment transformations are computed directly on the voxels.\n",
    "Functional alignment can be computed _within_ a parcel,\n",
    "and this serves to regularize the resulting transformation.\n",
    "There is no assumption however--implicit or otherwise--that fMRI data can be well-described by a given parcellation.\n",
    "\n",
    "## Representational Similarity Analysis (RSA)\n",
    "\n",
    "Much like functional alignment,\n",
    "RSA focuses on comparing representational geometries across subjects.\n",
    "RSA does this, however, in service of a representational model.\n",
    "That is, we have particular stimuli or stimulus classes which are chosen by the experimenter to reflect putative properties of the brain's functional organization.\n",
    "\n",
    "For example, we could consider how animacy vs inanimacy is differently encoded in a given cortical region.\n",
    "We would present many animate or inanimate stimuli,\n",
    "and use these stimuli to define our representational geometry.\n",
    "We could then compare this labelled representational geometry with an exisiting representational model,\n",
    "or with data collected using the same paradigm in a different modality\n",
    "such as behavioral reports.\n",
    "\n",
    "Functional alignment does not have the same reliance on stimuli.\n",
    "Ideal functional alignment stimuli are those which richly sample functional space (such as a Hollywood movie)\n",
    "rather than stimuli which precisely align to an investigator's hypothesis.\n",
    "As a result, functional alignment methods do not provide a clear path to representational models,\n",
    "even though--like RSA--they involve examining individual-level representational geometries."
   ]
  }
 ],
 "metadata": {
  "jupytext": {
   "text_representation": {
    "format_name": "myst"
   }
  },
  "kernelspec": {
   "display_name": "Python 3",
   "name": "python3"
  },
  "language_info": {
   "codemirror_mode": {
    "name": "ipython",
    "version": 3
   },
   "file_extension": ".py",
   "mimetype": "text/x-python",
   "name": "python",
   "nbconvert_exporter": "python",
   "pygments_lexer": "ipython3",
   "version": "3.7.10"
  },
  "source_map": [
   8
  ]
 },
 "nbformat": 4,
 "nbformat_minor": 5
}