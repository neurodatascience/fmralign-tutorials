{
 "cells": [
  {
   "cell_type": "markdown",
   "id": "2f13f67e",
   "metadata": {},
   "source": [
    "# Procrustes analysis\n",
    "\n",
    "Procrustes analysis allows us to compares the geometry of two objects or data sets.\n",
    "Specifically, for two geometries with a known one-to-one mapping,\n",
    "we can consider the distance between each pair of corresponding points.\n",
    "Our goal is to derive an orthogonal transformation that minimizes the distance between each pair of points, thus minimizing the total distance between the two geometries.\n",
    "Named for the legend of Procrustes,\n",
    "the ancient Greek innkeeper who stretched or cut off traveller's limbs so they would fit his bed,\n",
    "Procrustes analysis can be seen as conforming datasets through a series of rigid-body transformations {cite}`Schonemann1966-qq`.\n",
    "\n",
    "## Formalizing the problem\n",
    "\n",
    "Suppose we have two data distributions, $X$ and $Y$,\n",
    "which each sample a different representational geometry.\n",
    "Each distribution contains a series of $n$ observations, such that\n",
    "$X = \\{\\mathbf{x}_1, \\ldots, \\mathbf{x}_n\\}$\n",
    "where $\\mathbf{x}_i \\in \\mathbb{R}^p$.\n",
    "\n",
    "For fMRI data, $n$ would be the number of time points sampled,\n",
    "while $p$ is the number of units considered, usually corresponding to voxels.\n",
    "For this example, we'll set $p=2$ to ease visualization,\n",
    "but in a real data set we may be working with many more dimensions!\n",
    "\n",
    "```{code} python3\n",
    "import numpy as np\n",
    "\n",
    "x = np.random.rand(1, 2)\n",
    "y = np.random.rand(1, 3)\n",
    "```\n",
    "\n",
    "Because we assume a known correspondence between these two distributions,\n",
    "we can directly compare the $i$-th sample in $X$ and $Y$.\n",
    "The goal in Procrustes is to find a single orthogonal transformation that minimizes the sum-of-squares distances between all $n$ $X$, $Y$ pairs,\n",
    "thereby minimizing the total distance between the distributions:\n",
    "\n",
    "```{math}\n",
    ":label: procrustes_eq_1\n",
    "\\arg\\min_{\\mathbf{R}} \\sum_{i = 1}^{n} ||\\mathbf{R} \\mathbf{x}_i - \\mathbf{y}_i||_F^2 \\\\\n",
    "\\mathbf{R}^\\intercal\\mathbf{R} = \\mathbf{I}\n",
    "```\n",
    "\n",
    "If we stack all of our data points into two matrices\n",
    "--one for each distribution-- we can represent our two distributions as\n",
    "$\\mathbf{X} \\in \\mathbb{R}^{n \\times p}$ and\n",
    "$\\mathbf{Y} \\in \\mathbb{R}^{n \\times p}$.\n",
    "\n",
    "We can then re-write our problem as:\n",
    "\n",
    "```{math}\n",
    ":label: procrustes_eq_1\n",
    "\\arg\\min_{\\mathbf{R}} ||\\mathbf{R} \\mathbf{X} - \\mathbf{Y}||_F^2 \\\\\n",
    "\\mathbf{R}^\\intercal\\mathbf{R} = \\mathbf{I}\n",
    "```\n",
    "\n",
    "```{bibliography} references.bib\n",
    ":style: unsrt\n",
    ":filter: docname in docnames\n",
    "```"
   ]
  }
 ],
 "metadata": {
  "jupytext": {
   "formats": "md:myst,ipynb",
   "text_representation": {
    "extension": ".md",
    "format_name": "myst",
    "format_version": "0.9",
    "jupytext_version": "1.5.2"
   }
  },
  "kernelspec": {
   "display_name": "Python 3",
   "name": "python3"
  },
  "language_info": {
   "codemirror_mode": {
    "name": "ipython",
    "version": 3
   },
   "file_extension": ".py",
   "mimetype": "text/x-python",
   "name": "python",
   "nbconvert_exporter": "python",
   "pygments_lexer": "ipython3",
   "version": "3.7.11"
  },
  "source_map": [
   12
  ]
 },
 "nbformat": 4,
 "nbformat_minor": 5
}