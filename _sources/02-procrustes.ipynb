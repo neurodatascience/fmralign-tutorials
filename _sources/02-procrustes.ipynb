{
 "cells": [
  {
   "cell_type": "markdown",
   "id": "9c1f2606",
   "metadata": {},
   "source": [
    "# Procrustes alignment\n",
    "\n",
    "Originally introduced in {cite}`Schonemann1966-qq`,\n",
    "Procrustes analysis allows us to compares the geometry of two objects or data sets.\n",
    "Although it may seem unusual to think of distributions in terms of geometry,\n",
    "this makes more sense when we consider the distributions as point sets in some activation space.\n",
    "Our goal, then, is to find linear transformations that minimize the total distance between the two distributions.\n",
    "By further assuming that each distribution has exactly the same number of voxels $p$ measured over the same $n$ observations,\n",
    "we can consider that we are comparing two shapes with a known one-to-one mapping;\n",
    "i.e. the $i$-th voxel in the $X$ distribution corresponds to the same voxel index in the $Y$ distribution.\n",
    "Procrustes analysis allows us to align the shapes as closely as possible through linear mapping\n",
    "and to quantify how much they differ after this alignment.\n",
    "\n",
    "```{margin}\n",
    "Named for the legend of Procrustes,\n",
    "the ancient Greek innkeeper who stretched or cut off traveller's limbs so they would fit his bed.\n",
    "```\n",
    "\n",
    "Because we assume a known correspondence between these two distributions,\n",
    "we can directly compare the $i$-th sample across $X$ and $Y$.\n",
    "The goal in Procrustes is to find a single orthogonal transformation that minimizes the sum-of-squares distances between all $n$ $X$, $Y$ pairs,\n",
    "thereby minimizing the total distance between the distributions:\n",
    "\n",
    "## Formalization\n",
    "\n",
    "For our two distributions $\\mathbf{X} \\in \\mathbb{R}^{n \\times p}$ and\n",
    "$\\mathbf{Y} \\in \\mathbb{R}^{n \\times p}$, Procrustes solves the following minimization:\n",
    "\n",
    "```{math}\n",
    ":label: procrustes_eq_1\n",
    "\\arg\\min_{\\mathbf{R}} \\sum_{i = 1}^{n} ||\\mathbf{R} \\mathbf{x}_i - \\mathbf{y}_i||_F^2 \\\\\n",
    "\\mathbf{R}^\\intercal\\mathbf{R} = \\mathbf{I}\n",
    "```\n",
    "\n",
    "Where $|| \\cdot ||_F$ indicates the Frobenius norm,\n",
    "which corresponds to the elementwise Euclidean distance.\n",
    "By assuming an implicit, index-based correspondence across our two distributions,\n",
    "we can re-write the minimization as:\n",
    "\n",
    "```{math}\n",
    ":label: procrustes_eq_2\n",
    "\\arg\\min_{\\mathbf{R}} ||\\mathbf{R} \\mathbf{X} - \\mathbf{Y}||_F^2 \\\\\n",
    "\\mathbf{R}^\\intercal\\mathbf{R} = \\mathbf{I}\n",
    "```\n",
    "\n",
    "## Implementation\n",
    "\n",
    "```{code} python3\n",
    "import numpy as np\n",
    "\n",
    "x = np.random.rand(20, 100)\n",
    "y = np.random.rand(20, 100)\n",
    "```\n",
    "\n",
    "## Useful resources\n",
    "\n",
    "https://simonensemble.github.io/2018-10/orthogonal-procrustes.html\n",
    "\n",
    "```{bibliography} references.bib\n",
    ":style: unsrt\n",
    ":filter: docname in docnames\n",
    "```"
   ]
  }
 ],
 "metadata": {
  "jupytext": {
   "formats": "md:myst,ipynb",
   "text_representation": {
    "extension": ".md",
    "format_name": "myst",
    "format_version": "0.9",
    "jupytext_version": "1.5.2"
   }
  },
  "kernelspec": {
   "display_name": "Python 3",
   "name": "python3"
  },
  "language_info": {
   "codemirror_mode": {
    "name": "ipython",
    "version": 3
   },
   "file_extension": ".py",
   "mimetype": "text/x-python",
   "name": "python",
   "nbconvert_exporter": "python",
   "pygments_lexer": "ipython3",
   "version": "3.7.12"
  },
  "source_map": [
   12
  ]
 },
 "nbformat": 4,
 "nbformat_minor": 5
}